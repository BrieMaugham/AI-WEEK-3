{
  "nbformat": 4,
  "nbformat_minor": 0,
  "metadata": {
    "colab": {
      "private_outputs": true,
      "provenance": []
    },
    "kernelspec": {
      "name": "python3",
      "display_name": "Python 3"
    },
    "language_info": {
      "name": "python"
    }
  },
  "cells": [
    {
      "cell_type": "markdown",
      "source": [
        "# New Section"
      ],
      "metadata": {
        "id": "m28qtJSPU3B6"
      }
    },
    {
      "cell_type": "code",
      "source": [
        "# buggy_code.py\n",
        "import tensorflow as tf\n",
        "\n",
        "# 1. Load Data\n",
        "(x_train, y_train), (x_test, y_test) = tf.keras.datasets.mnist.load_data()\n",
        "\n",
        "# 2. Preprocess Data\n",
        "x_train = x_train.astype('float32') / 255.0\n",
        "x_test = x_test.astype('float32') / 255.0\n",
        "# BUG 1: Labels are not one-hot encoded but loss function expects them to be.\n",
        "\n",
        "# 3. Build Model\n",
        "model = tf.keras.Sequential([\n",
        "    # BUG 2: Input shape is incorrect for a CNN. It's missing the channel dimension.\n",
        "    tf.keras.layers.Conv2D(32, (3,3), activation='relu', input_shape=(28, 28)),\n",
        "    tf.keras.layers.Flatten(),\n",
        "    tf.keras.layers.Dense(128, activation='relu'),\n",
        "    # BUG 3: Output layer has wrong number of units and wrong activation for multi-class.\n",
        "    tf.keras.layers.Dense(1, activation='sigmoid')\n",
        "])\n",
        "\n",
        "# 4. Compile Model\n",
        "model.compile(optimizer='adam',\n",
        "              loss='categorical_crossentropy', # This loss expects one-hot labels.\n",
        "              metrics=['accuracy'])\n",
        "\n",
        "# 5. Train Model\n",
        "model.fit(x_train, y_train, epochs=5)"
      ],
      "metadata": {
        "id": "8JS8-1VtjIzx"
      },
      "execution_count": null,
      "outputs": []
    },
    {
      "cell_type": "code",
      "source": [
        "# fixed_code.py\n",
        "import tensorflow as tf\n",
        "import numpy as np\n",
        "\n",
        "# 1. Load Data\n",
        "(x_train, y_train), (x_test, y_test) = tf.keras.datasets.mnist.load_data()\n",
        "\n",
        "# 2. Preprocess Data\n",
        "# Reshape input data to add the channel dimension (1 for grayscale)\n",
        "x_train = x_train.reshape(-1, 28, 28, 1).astype('float32') / 255.0\n",
        "x_test = x_test.reshape(-1, 28, 28, 1).astype('float32') / 255.0\n",
        "\n",
        "# FIX 1: One-hot encode the labels to match the loss function.\n",
        "y_train_cat = tf.keras.utils.to_categorical(y_train, 10)\n",
        "y_test_cat = tf.keras.utils.to_categorical(y_test, 10)\n",
        "# An alternative fix would be to keep integer labels and change loss to 'sparse_categorical_crossentropy'.\n",
        "\n",
        "# 3. Build Model\n",
        "model = tf.keras.Sequential([\n",
        "    # FIX 2: Corrected input_shape to (28, 28, 1).\n",
        "    tf.keras.layers.Conv2D(32, (3,3), activation='relu', input_shape=(28, 28, 1)),\n",
        "    tf.keras.layers.MaxPooling2D((2, 2)), # Added for better performance\n",
        "    tf.keras.layers.Flatten(),\n",
        "    tf.keras.layers.Dense(128, activation='relu'),\n",
        "    # FIX 3: Output layer must have 10 units (for 10 digits) and 'softmax' activation\n",
        "    # for multi-class probability distribution.\n",
        "    tf.keras.layers.Dense(10, activation='softmax')\n",
        "])\n",
        "\n",
        "# 4. Compile Model\n",
        "model.compile(optimizer='adam',\n",
        "              loss='categorical_crossentropy', # This loss now matches the one-hot labels.\n",
        "              metrics=['accuracy'])\n",
        "\n",
        "model.summary()\n",
        "\n",
        "# 5. Train Model\n",
        "print(\"\\nTraining fixed model...\")\n",
        "model.fit(x_train, y_train_cat, epochs=5, validation_data=(x_test, y_test_cat))\n",
        "print(\"Training complete.\")"
      ],
      "metadata": {
        "id": "Ou-FtsgUU69N"
      },
      "execution_count": null,
      "outputs": []
    }
  ]
}